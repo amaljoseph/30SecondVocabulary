{
  "nbformat": 4,
  "nbformat_minor": 0,
  "metadata": {
    "colab": {
      "name": "30SecondVocabulary.ipynb",
      "provenance": [],
      "collapsed_sections": [],
      "authorship_tag": "ABX9TyMIopJzBQl7kWW+5sLI2UnF",
      "include_colab_link": true
    },
    "kernelspec": {
      "name": "python3",
      "display_name": "Python 3"
    }
  },
  "cells": [
    {
      "cell_type": "markdown",
      "metadata": {
        "id": "view-in-github",
        "colab_type": "text"
      },
      "source": [
        "<a href=\"https://colab.research.google.com/github/amaljoseph/30SecondVocabulary/blob/master/30SecondVocabulary.ipynb\" target=\"_parent\"><img src=\"https://colab.research.google.com/assets/colab-badge.svg\" alt=\"Open In Colab\"/></a>"
      ]
    },
    {
      "cell_type": "markdown",
      "metadata": {
        "id": "GIXdlWOcM9Hz",
        "colab_type": "text"
      },
      "source": [
        "# Mounting GDrive#"
      ]
    },
    {
      "cell_type": "code",
      "metadata": {
        "id": "g2gu952d4N2x",
        "colab_type": "code",
        "colab": {
          "base_uri": "https://localhost:8080/",
          "height": 35
        },
        "outputId": "dcd00646-2df1-4613-8433-5bb6bdb8a9f9"
      },
      "source": [
        "from google.colab import drive\n",
        "drive.mount('/content/gdrive/')"
      ],
      "execution_count": null,
      "outputs": [
        {
          "output_type": "stream",
          "text": [
            "Drive already mounted at /content/gdrive/; to attempt to forcibly remount, call drive.mount(\"/content/gdrive/\", force_remount=True).\n"
          ],
          "name": "stdout"
        }
      ]
    },
    {
      "cell_type": "code",
      "metadata": {
        "id": "MjsimVq15QEn",
        "colab_type": "code",
        "colab": {}
      },
      "source": [
        "root_path =  'gdrive/My Drive/30SecondVocabulary'"
      ],
      "execution_count": null,
      "outputs": []
    },
    {
      "cell_type": "code",
      "metadata": {
        "id": "RpT1rFIx-f4q",
        "colab_type": "code",
        "colab": {
          "base_uri": "https://localhost:8080/",
          "height": 54
        },
        "outputId": "aefbf0f3-5622-4a10-85b8-0304d8d76165"
      },
      "source": [
        "cd My Drive/30SecondVocabulary"
      ],
      "execution_count": null,
      "outputs": [
        {
          "output_type": "stream",
          "text": [
            "[Errno 2] No such file or directory: 'My Drive/30SecondVocabulary'\n",
            "/content\n"
          ],
          "name": "stdout"
        }
      ]
    },
    {
      "cell_type": "code",
      "metadata": {
        "id": "INJcvS1r6YCl",
        "colab_type": "code",
        "colab": {}
      },
      "source": [
        "import cv2 as cv\n",
        "import numpy as np\n",
        "from matplotlib import pyplot as plt"
      ],
      "execution_count": null,
      "outputs": []
    },
    {
      "cell_type": "markdown",
      "metadata": {
        "id": "CpxgmtVFNEH-",
        "colab_type": "text"
      },
      "source": [
        "# Random Folder Picker #"
      ]
    },
    {
      "cell_type": "code",
      "metadata": {
        "id": "BdsZRAAc67C-",
        "colab_type": "code",
        "colab": {}
      },
      "source": [
        "def random_folder_picker():\n",
        "  random_folder_id = str(np.random.randint(1, 4))\n",
        "  return random_folder_id"
      ],
      "execution_count": null,
      "outputs": []
    },
    {
      "cell_type": "markdown",
      "metadata": {
        "id": "HkjDPHDUNH2p",
        "colab_type": "text"
      },
      "source": [
        "# Image function #"
      ]
    },
    {
      "cell_type": "code",
      "metadata": {
        "id": "7Cxn3nGGVv0h",
        "colab_type": "code",
        "colab": {}
      },
      "source": [
        "import  urllib\n",
        "from google.colab.patches import cv2_imshow"
      ],
      "execution_count": null,
      "outputs": []
    },
    {
      "cell_type": "code",
      "metadata": {
        "id": "d4hzqOuW9AB-",
        "colab_type": "code",
        "colab": {}
      },
      "source": [
        "def get_image_id():\n",
        "  return str(np.random.randint(250))\n",
        "\n",
        "\n",
        "def get_blurred_image():  \n",
        "  id = get_image_id()\n",
        "  square_url = 'https://picsum.photos/id/'+id+'/500/500/?blur=6.5'\n",
        "  rectangle_url = 'https://picsum.photos/id/'+id+'/1280/720/?blur=6.5'\n",
        "\n",
        "\n",
        "  # Square Image\n",
        "  response = urllib.request.urlopen(square_url)\n",
        "  image = np.asarray(bytearray(response.read()), dtype=\"uint8\")\n",
        "  square_img = cv.imdecode(image, cv.IMREAD_COLOR)\n",
        "\n",
        "  # Rectangle Image\n",
        "  response = urllib.request.urlopen(rectangle_url)\n",
        "  image = np.asarray(bytearray(response.read()), dtype=\"uint8\")\n",
        "  rectangle_img = cv.imdecode(image, cv.IMREAD_COLOR)\n",
        "\n",
        "  return response.read(), square_img, rectangle_img"
      ],
      "execution_count": null,
      "outputs": []
    },
    {
      "cell_type": "markdown",
      "metadata": {
        "id": "tUmJG05aM3FW",
        "colab_type": "text"
      },
      "source": [
        "# Reading Data From Google Sheet #"
      ]
    },
    {
      "cell_type": "code",
      "metadata": {
        "id": "f1LusfCVKtkV",
        "colab_type": "code",
        "colab": {}
      },
      "source": [
        "from google.colab import auth\n",
        "auth.authenticate_user()\n",
        "import gspread\n",
        "from oauth2client.client import GoogleCredentials\n",
        "gc = gspread.authorize(GoogleCredentials.get_application_default())"
      ],
      "execution_count": null,
      "outputs": []
    },
    {
      "cell_type": "code",
      "metadata": {
        "id": "FEoFedvGJVFY",
        "colab_type": "code",
        "colab": {
          "base_uri": "https://localhost:8080/",
          "height": 36
        },
        "outputId": "87dc0cd8-4aa6-4d51-c232-d67883eed473"
      },
      "source": [
        "import pandas as pd\n",
        "def get_word_from_gsheet():\n",
        "  wb = gc.open_by_url('https://docs.google.com/spreadsheets/d/1EnzZnT2vMLpludfgpupUS72U5Jh2__FzJvQecWtA-wk/edit#gid=0')\n",
        "  sheet = wb.get_worksheet(0)\n",
        "  row = 10\n",
        "  val=sheet.cell(row,1).value\n",
        "  return val\n",
        "\n",
        "get_word_from_gsheet()"
      ],
      "execution_count": null,
      "outputs": [
        {
          "output_type": "execute_result",
          "data": {
            "application/vnd.google.colaboratory.intrinsic": {
              "type": "string"
            },
            "text/plain": [
              "'infantile'"
            ]
          },
          "metadata": {
            "tags": []
          },
          "execution_count": 8
        }
      ]
    },
    {
      "cell_type": "markdown",
      "metadata": {
        "id": "COfXCAbkNN0d",
        "colab_type": "text"
      },
      "source": [
        "# Scraping text from dictionary #"
      ]
    },
    {
      "cell_type": "code",
      "metadata": {
        "id": "yEnvaPDFMQPI",
        "colab_type": "code",
        "colab": {}
      },
      "source": [
        "import requests\n",
        "from bs4 import BeautifulSoup"
      ],
      "execution_count": null,
      "outputs": []
    },
    {
      "cell_type": "code",
      "metadata": {
        "id": "KKYZkxIThZT0",
        "colab_type": "code",
        "colab": {}
      },
      "source": [
        "def make_soup():\n",
        "  word = get_word_from_gsheet()\n",
        "  dictionary_url = 'https://dictionary.cambridge.org/dictionary/english/'+word\n",
        "\n",
        "  page = requests.get(dictionary_url)\n",
        "  soup = BeautifulSoup(page.content, 'html.parser')\n",
        "\n",
        "  return soup"
      ],
      "execution_count": null,
      "outputs": []
    },
    {
      "cell_type": "code",
      "metadata": {
        "id": "kqxsrbRlN5q-",
        "colab_type": "code",
        "colab": {}
      },
      "source": [
        "def get_text(soup):\n",
        "  \n",
        "  pos = soup.find_all('span', class_='pos dpos')[0].text\n",
        "  meaning = soup.find_all('div', class_='def ddef_d db')[0].text\n",
        "  example = soup.find_all('span', class_='eg deg')[0].text\n",
        "  synonym = soup.find_all('span', class_='x-h dx-h')[0].text\n",
        "\n",
        "  uk_pron = soup.find(class_='uk dpron-i ').find(class_='pron dpron').find(class_='ipa dipa lpr-2 lpl-1').text\n",
        "  us_pron = soup.find(class_='us dpron-i ').find(class_='pron dpron').find(class_='ipa dipa lpr-2 lpl-1').text\n",
        "\n",
        "  return pos, meaning, example, synonym, uk_pron, us_pron"
      ],
      "execution_count": null,
      "outputs": []
    },
    {
      "cell_type": "markdown",
      "metadata": {
        "id": "SMlRZh1pakJK",
        "colab_type": "text"
      },
      "source": [
        "# Audio Extraction #"
      ]
    },
    {
      "cell_type": "code",
      "metadata": {
        "id": "mmTG8xe7Sl_Q",
        "colab_type": "code",
        "colab": {}
      },
      "source": [
        "def get_audio_url(soup):\n",
        "  uk_audio = soup.find(class_='uk dpron-i ').find(class_='daud').find(id='ampaudio1').find('source')['src']\n",
        "  us_audio = soup.find(class_='us dpron-i ').find(class_='daud').find(id='ampaudio2').find('source')['src']\n",
        "\n",
        "  uk_url = 'https://dictionary.cambridge.org/'+uk_audio\n",
        "  us_url = 'https://dictionary.cambridge.org/'+us_audio\n",
        "\n",
        "  return uk_url, us_url"
      ],
      "execution_count": null,
      "outputs": []
    },
    {
      "cell_type": "markdown",
      "metadata": {
        "id": "5QFD22MRc8A-",
        "colab_type": "text"
      },
      "source": [
        "# Image + Audio #"
      ]
    },
    {
      "cell_type": "code",
      "metadata": {
        "id": "wciMmtoOc-PM",
        "colab_type": "code",
        "colab": {
          "base_uri": "https://localhost:8080/",
          "height": 54
        },
        "outputId": "c2863425-1000-41d0-ae2f-971104f6b084"
      },
      "source": [
        "!pip3 install ffmpeg-python\n",
        "import ffmpeg"
      ],
      "execution_count": null,
      "outputs": [
        {
          "output_type": "stream",
          "text": [
            "Requirement already satisfied: ffmpeg-python in /usr/local/lib/python3.6/dist-packages (0.2.0)\n",
            "Requirement already satisfied: future in /usr/local/lib/python3.6/dist-packages (from ffmpeg-python) (0.16.0)\n"
          ],
          "name": "stdout"
        }
      ]
    },
    {
      "cell_type": "code",
      "metadata": {
        "id": "6IDY3h7Ek16I",
        "colab_type": "code",
        "colab": {
          "base_uri": "https://localhost:8080/",
          "height": 377
        },
        "outputId": "960fe20b-7c16-4af2-95fe-83839f55c344"
      },
      "source": [
        "soup = make_soup()\n",
        "\n",
        "img=get_blurred_image()[0]\n",
        "aud=get_audio_url(soup)[0]\n",
        "input_still = ffmpeg.input(img)\n",
        "input_audio = ffmpeg.input(aud)\n",
        "\n",
        "(\n",
        "    ffmpeg\n",
        "    .concat(input_still, input_audio, v=1, a=1)\n",
        "    .output(\"output.mp4\")\n",
        "    .run()\n",
        "\n",
        ")"
      ],
      "execution_count": null,
      "outputs": [
        {
          "output_type": "error",
          "ename": "Error",
          "evalue": "ignored",
          "traceback": [
            "\u001b[0;31m---------------------------------------------------------------------------\u001b[0m",
            "\u001b[0;31mError\u001b[0m                                     Traceback (most recent call last)",
            "\u001b[0;32m<ipython-input-23-a8f9335d0617>\u001b[0m in \u001b[0;36m<module>\u001b[0;34m()\u001b[0m\n\u001b[1;32m      9\u001b[0m     \u001b[0mffmpeg\u001b[0m\u001b[0;34m\u001b[0m\u001b[0;34m\u001b[0m\u001b[0m\n\u001b[1;32m     10\u001b[0m     \u001b[0;34m.\u001b[0m\u001b[0mconcat\u001b[0m\u001b[0;34m(\u001b[0m\u001b[0minput_still\u001b[0m\u001b[0;34m,\u001b[0m \u001b[0minput_audio\u001b[0m\u001b[0;34m,\u001b[0m \u001b[0mv\u001b[0m\u001b[0;34m=\u001b[0m\u001b[0;36m1\u001b[0m\u001b[0;34m,\u001b[0m \u001b[0ma\u001b[0m\u001b[0;34m=\u001b[0m\u001b[0;36m1\u001b[0m\u001b[0;34m)\u001b[0m\u001b[0;34m\u001b[0m\u001b[0;34m\u001b[0m\u001b[0m\n\u001b[0;32m---> 11\u001b[0;31m     \u001b[0;34m.\u001b[0m\u001b[0moutput\u001b[0m\u001b[0;34m(\u001b[0m\u001b[0;34m\"output.mp4\"\u001b[0m\u001b[0;34m)\u001b[0m\u001b[0;34m\u001b[0m\u001b[0;34m\u001b[0m\u001b[0m\n\u001b[0m\u001b[1;32m     12\u001b[0m     \u001b[0;34m.\u001b[0m\u001b[0mrun\u001b[0m\u001b[0;34m(\u001b[0m\u001b[0;34m)\u001b[0m\u001b[0;34m\u001b[0m\u001b[0;34m\u001b[0m\u001b[0m\n\u001b[1;32m     13\u001b[0m \u001b[0;34m\u001b[0m\u001b[0m\n",
            "\u001b[0;32m/usr/local/lib/python3.6/dist-packages/ffmpeg/_run.py\u001b[0m in \u001b[0;36mrun\u001b[0;34m(stream_spec, cmd, capture_stdout, capture_stderr, input, quiet, overwrite_output)\u001b[0m\n\u001b[1;32m    323\u001b[0m     \u001b[0mretcode\u001b[0m \u001b[0;34m=\u001b[0m \u001b[0mprocess\u001b[0m\u001b[0;34m.\u001b[0m\u001b[0mpoll\u001b[0m\u001b[0;34m(\u001b[0m\u001b[0;34m)\u001b[0m\u001b[0;34m\u001b[0m\u001b[0;34m\u001b[0m\u001b[0m\n\u001b[1;32m    324\u001b[0m     \u001b[0;32mif\u001b[0m \u001b[0mretcode\u001b[0m\u001b[0;34m:\u001b[0m\u001b[0;34m\u001b[0m\u001b[0;34m\u001b[0m\u001b[0m\n\u001b[0;32m--> 325\u001b[0;31m         \u001b[0;32mraise\u001b[0m \u001b[0mError\u001b[0m\u001b[0;34m(\u001b[0m\u001b[0;34m'ffmpeg'\u001b[0m\u001b[0;34m,\u001b[0m \u001b[0mout\u001b[0m\u001b[0;34m,\u001b[0m \u001b[0merr\u001b[0m\u001b[0;34m)\u001b[0m\u001b[0;34m\u001b[0m\u001b[0;34m\u001b[0m\u001b[0m\n\u001b[0m\u001b[1;32m    326\u001b[0m     \u001b[0;32mreturn\u001b[0m \u001b[0mout\u001b[0m\u001b[0;34m,\u001b[0m \u001b[0merr\u001b[0m\u001b[0;34m\u001b[0m\u001b[0;34m\u001b[0m\u001b[0m\n\u001b[1;32m    327\u001b[0m \u001b[0;34m\u001b[0m\u001b[0m\n",
            "\u001b[0;31mError\u001b[0m: ffmpeg error (see stderr output for detail)"
          ]
        }
      ]
    },
    {
      "cell_type": "code",
      "metadata": {
        "id": "9gnYvZL0lQIp",
        "colab_type": "code",
        "colab": {}
      },
      "source": [
        ""
      ],
      "execution_count": null,
      "outputs": []
    }
  ]
}